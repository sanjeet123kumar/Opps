{
  "nbformat": 4,
  "nbformat_minor": 0,
  "metadata": {
    "colab": {
      "provenance": []
    },
    "kernelspec": {
      "name": "python3",
      "display_name": "Python 3"
    },
    "language_info": {
      "name": "python"
    }
  },
  "cells": [
    {
      "cell_type": "markdown",
      "source": [
        "**#PYTHON OPPS ASSIGNMENT**\n"
      ],
      "metadata": {
        "id": "04QhLEVhUYlL"
      }
    },
    {
      "cell_type": "markdown",
      "source": [
        "1. What is Object-Oriented Programming (OOP)+"
      ],
      "metadata": {
        "id": "7PamFb0zWOgj"
      }
    },
    {
      "cell_type": "markdown",
      "source": [
        "Object-Oriented Programming (OOP) is a programming paradigm based on the concept of “objects”, which can contain data, in the form of fields (attributes or properties), and code, in the form of procedures (methods). It provides a clear modular structure for programs and makes it easier to maintain and modify existing code. The key principles of OOP include encapsulation, inheritance, abstraction, and polymorphism."
      ],
      "metadata": {
        "id": "GwFPZBVRaxk_"
      }
    },
    {
      "cell_type": "code",
      "source": [
        "# Example:\n",
        "class Student:\n",
        "    def __init__(self, name):\n",
        "        self.name = name\n",
        "\n",
        "    def greet(self):\n",
        "        print(f\"Hello, I am {self.name}\")\n",
        "\n",
        "s1 = Student(\"sanjeet\")\n",
        "s1.greet()"
      ],
      "metadata": {
        "id": "pUVpZTBIa9P1"
      },
      "execution_count": null,
      "outputs": []
    },
    {
      "cell_type": "markdown",
      "source": [
        " 2. What is a Class in OOP?"
      ],
      "metadata": {
        "id": "c5sl8mhqbI5j"
      }
    },
    {
      "cell_type": "markdown",
      "source": [
        "A class is a blueprint or template for creating objects. It defines a set of attributes and methods that the created objects (instances) will have. Classes allow code reusability and organization."
      ],
      "metadata": {
        "id": "oZ_R9SG8bjq3"
      }
    },
    {
      "cell_type": "code",
      "source": [
        "🔸 Example:\n",
        "class Car:\n",
        "    def drive(self):\n",
        "        print(\"Car is driving\")"
      ],
      "metadata": {
        "id": "c8OnIysqbrgY"
      },
      "execution_count": null,
      "outputs": []
    },
    {
      "cell_type": "markdown",
      "source": [
        "3. What is an Object in OOP?"
      ],
      "metadata": {
        "id": "QyCOsm0Abv3D"
      }
    },
    {
      "cell_type": "markdown",
      "source": [
        "An object is an instance of a class. It represents a real-world entity and can use the methods and attributes defined in the class. Multiple objects can be created from a single class."
      ],
      "metadata": {
        "id": "G1KHCjIJb1wX"
      }
    },
    {
      "cell_type": "code",
      "source": [
        "🔸 Example:\n",
        "c1 = Car()\n",
        "c1.drive()"
      ],
      "metadata": {
        "id": "BIDLiI7dcEJZ"
      },
      "execution_count": null,
      "outputs": []
    },
    {
      "cell_type": "markdown",
      "source": [
        " 4. Difference Between Abstraction and Encapsulation"
      ],
      "metadata": {
        "id": "AoKwEY97cFuH"
      }
    },
    {
      "cell_type": "markdown",
      "source": [
        "Abstraction means hiding the internal implementation details and showing only the essential features to the user. Encapsulation means binding data and the methods that manipulate that data together and restricting access to some of the object’s components.\n",
        "Feature\n",
        "Abstraction\n",
        "Encapsulation\n",
        "Purpose\n",
        "Hide complexity\n",
        "Bind data and methods\n",
        "Focus\n",
        "What to do\n",
        "How to do it\n",
        "Usage\n",
        "Abstract classes/interfaces\n",
        "Access modifiers (__private)\n",
        "\n"
      ],
      "metadata": {
        "id": "j06fxo1GcMRa"
      }
    },
    {
      "cell_type": "code",
      "source": [
        "🔸 Example (Encapsulation):\n",
        "class BankAccount:\n",
        "    def __init__(self):\n",
        "        self.__balance = 1000\n",
        "\n",
        "    def get_balance(self):\n",
        "        return self.__balance"
      ],
      "metadata": {
        "id": "eKe5Q3DJcQ7o"
      },
      "execution_count": null,
      "outputs": []
    },
    {
      "cell_type": "markdown",
      "source": [
        "5. What are Dunder Methods in Python?"
      ],
      "metadata": {
        "id": "gfEx47PDcVE1"
      }
    },
    {
      "cell_type": "markdown",
      "source": [
        "Dunder (double underscore) methods, also known as magic methods, are special methods that start and end with double underscores. They are used to override default Python behaviors and make objects behave like built-in types."
      ],
      "metadata": {
        "id": "EnEpzE7bca6Q"
      }
    },
    {
      "cell_type": "code",
      "source": [
        "🔸 Example:\n",
        "class Book:\n",
        "    def __init__(self, title):\n",
        "        self.title = title\n",
        "\n",
        "    def __str__(self):\n",
        "        return f\"Book: {self.title}\""
      ],
      "metadata": {
        "id": "bKkltAMCcf6M"
      },
      "execution_count": null,
      "outputs": []
    },
    {
      "cell_type": "markdown",
      "source": [
        "6. Explain the Concept of Inheritance in OOP"
      ],
      "metadata": {
        "id": "vjx4kuVVcg-t"
      }
    },
    {
      "cell_type": "markdown",
      "source": [
        "Inheritance allows a class (child or derived class) to inherit the properties and behaviors (methods) of another class (parent or base class). It promotes code reusability and logical hierarchy."
      ],
      "metadata": {
        "id": "g3Zl6iO1cnth"
      }
    },
    {
      "cell_type": "code",
      "source": [
        "🔸 Example:\n",
        "class Animal:\n",
        "    def speak(self):\n",
        "        print(\"Animal speaks\")\n",
        "\n",
        "class Dog(Animal):\n",
        "    def speak(self):\n",
        "        print(\"Dog barks\")\n",
        "\n",
        "d = Dog()\n",
        "d.speak()\n"
      ],
      "metadata": {
        "id": "m2f4DuwzcyS9"
      },
      "execution_count": null,
      "outputs": []
    },
    {
      "cell_type": "markdown",
      "source": [
        "7. What is Polymorphism in OOP?"
      ],
      "metadata": {
        "id": "_1dh_cpXczrL"
      }
    },
    {
      "cell_type": "markdown",
      "source": [
        "Polymorphism means the ability of different objects to respond to the same function call in different ways. It allows methods to have the same name but behave differently based on the object."
      ],
      "metadata": {
        "id": "RMoxxp57c3fR"
      }
    },
    {
      "cell_type": "code",
      "source": [
        "Example:\n",
        "class Bird:\n",
        "    def sound(self):\n",
        "        print(\"Chirp\")\n",
        "\n",
        "class Cat:\n",
        "    def sound(self):\n",
        "        print(\"Meow\")\n",
        "\n",
        "for animal in (Bird(), Cat()):\n",
        "    animal.sound()"
      ],
      "metadata": {
        "id": "_IT9s1R6c7ta"
      },
      "execution_count": null,
      "outputs": []
    },
    {
      "cell_type": "markdown",
      "source": [
        "8. How is Encapsulation Achieved in Python?"
      ],
      "metadata": {
        "id": "aMQ9NMbmdHS3"
      }
    },
    {
      "cell_type": "markdown",
      "source": [
        "Encapsulation is achieved by using access modifiers to make attributes private or protected. In Python, prefixing variables with __ makes them private."
      ],
      "metadata": {
        "id": "RRGN6z6adJwL"
      }
    },
    {
      "cell_type": "code",
      "source": [
        "🔸 Example:\n",
        "class Person:\n",
        "    def __init__(self):\n",
        "        self.__age = 30\n",
        "\n",
        "    def get_age(self):\n",
        "        return self.__age"
      ],
      "metadata": {
        "id": "K4dB2eDodNWJ"
      },
      "execution_count": null,
      "outputs": []
    },
    {
      "cell_type": "markdown",
      "source": [
        "9. What is a Constructor in Python?"
      ],
      "metadata": {
        "id": "ezPt09a6dVBS"
      }
    },
    {
      "cell_type": "markdown",
      "source": [
        "A constructor is a special method called __init__ in Python, which is automatically invoked when a new object is created. It is used to initialize the object’s state."
      ],
      "metadata": {
        "id": "a9DLPXe7daAa"
      }
    },
    {
      "cell_type": "code",
      "source": [
        "🔸 Example:\n",
        "class Student:\n",
        "    def __init__(self, name):\n",
        "        self.name = name"
      ],
      "metadata": {
        "id": "xxGy_w6jddej"
      },
      "execution_count": null,
      "outputs": []
    },
    {
      "cell_type": "markdown",
      "source": [
        "10. What are Class and Static Methods in Python?"
      ],
      "metadata": {
        "id": "hiXMzOgQdgQk"
      }
    },
    {
      "cell_type": "markdown",
      "source": [
        "Class methods use @classmethod decorator and take cls as the first parameter.\n",
        "Static methods use @staticmethod decorator and don’t take self or cls. They are utility methods."
      ],
      "metadata": {
        "id": "ulP1f7uedj5t"
      }
    },
    {
      "cell_type": "code",
      "source": [
        "🔸 Example:\n",
        "class Calculator:\n",
        "    @staticmethod\n",
        "    def add(x, y):\n",
        "        return x + y\n",
        "\n",
        "    @classmethod\n",
        "    def identity(cls):\n",
        "        print(cls)"
      ],
      "metadata": {
        "id": "HPlRL55DdoG4"
      },
      "execution_count": null,
      "outputs": []
    },
    {
      "cell_type": "markdown",
      "source": [
        "11. What is Method Overloading in Python?"
      ],
      "metadata": {
        "id": "o0Schosidwbf"
      }
    },
    {
      "cell_type": "markdown",
      "source": [
        "Python does not support traditional method overloading like other languages, but it can be simulated using default arguments or *args and **kwargs."
      ],
      "metadata": {
        "id": "t8S2Q3ybd1ee"
      }
    },
    {
      "cell_type": "code",
      "source": [
        "🔸 Example:\n",
        "class Greet:\n",
        "    def hello(self, name=None):\n",
        "        if name:\n",
        "            print(\"Hello\", name)\n",
        "        else:\n",
        "            print(\"Hello\")"
      ],
      "metadata": {
        "id": "ksCqh8Ddd4pW"
      },
      "execution_count": null,
      "outputs": []
    },
    {
      "cell_type": "markdown",
      "source": [
        "12. What is Method Overriding in OOP?"
      ],
      "metadata": {
        "id": "GZ3x4XoVd8vy"
      }
    },
    {
      "cell_type": "markdown",
      "source": [
        "Method overriding allows a subclass to provide a specific implementation of a method already defined in its superclass. It is a key aspect of achieving polymorphism."
      ],
      "metadata": {
        "id": "StTnYZTueBVA"
      }
    },
    {
      "cell_type": "code",
      "source": [
        "🔸 Example:\n",
        "class Parent:\n",
        "    def show(self):\n",
        "        print(\"Parent method\")\n",
        "\n",
        "class Child(Parent):\n",
        "    def show(self):\n",
        "        print(\"Child method\")"
      ],
      "metadata": {
        "id": "-JKHF5yOeIGw"
      },
      "execution_count": null,
      "outputs": []
    },
    {
      "cell_type": "markdown",
      "source": [
        "13. What is a Property Decorator in Python?"
      ],
      "metadata": {
        "id": "8cGxRpA3eJOz"
      }
    },
    {
      "cell_type": "markdown",
      "source": [
        "The @property decorator in Python is used to convert a method into a read-only property, allowing controlled access to private attributes."
      ],
      "metadata": {
        "id": "fspfJrYDeNwK"
      }
    },
    {
      "cell_type": "code",
      "source": [
        "🔸 Example:\n",
        "class Circle:\n",
        "    def __init__(self, radius):\n",
        "        self._radius = radius\n",
        "\n",
        "    @property\n",
        "    def area(self):\n",
        "        return 3.14 * self._radius ** 2"
      ],
      "metadata": {
        "id": "yT1CRv15eViw"
      },
      "execution_count": null,
      "outputs": []
    },
    {
      "cell_type": "markdown",
      "source": [
        "14. Why is Polymorphism Important in OOP?\n"
      ],
      "metadata": {
        "id": "Mh1HLq_1eX9x"
      }
    },
    {
      "cell_type": "markdown",
      "source": [
        "Polymorphism enhances flexibility and extensibility in code. It allows objects of different classes to be treated as objects of a common superclass, which simplifies code and promotes interface consistency."
      ],
      "metadata": {
        "id": "p-Xf-5vYedIO"
      }
    },
    {
      "cell_type": "code",
      "source": [
        "class Animal:\n",
        "    def make_sound(self):\n",
        "        print(\"Animal makes a sound\")\n",
        "\n",
        "class Dog(Animal):\n",
        "    def make_sound(self):\n",
        "        print(\"Dog barks\")\n",
        "\n",
        "class Cat(Animal):\n",
        "    def make_sound(self):\n",
        "        print(\"Cat meows\")\n",
        "\n",
        "# Polymorphic behavior\n",
        "def animal_sound(animal):\n",
        "    animal.make_sound()\n",
        "\n",
        "# All objects can be passed to the same function\n",
        "animals = [Dog(), Cat(), Animal()]\n",
        "\n",
        "for a in animals:\n",
        "    animal_sound(a)\n"
      ],
      "metadata": {
        "id": "trdSrNOfehck"
      },
      "execution_count": null,
      "outputs": []
    },
    {
      "cell_type": "markdown",
      "source": [
        "15. What is an Abstract Class in Python?"
      ],
      "metadata": {
        "id": "FXD-T7aRe4fU"
      }
    },
    {
      "cell_type": "markdown",
      "source": [
        "An abstract class in Python is a class that cannot be instantiated and often includes abstract methods that must be implemented by its subclasses. It is defined using the abc module"
      ],
      "metadata": {
        "id": "i4GL7BsWe-jU"
      }
    },
    {
      "cell_type": "code",
      "source": [
        "🔸 Example:\n",
        "from abc import ABC, abstractmethod\n",
        "\n",
        "class Shape(ABC):\n",
        "    @abstractmethod\n",
        "    def area(self):\n",
        "        pass"
      ],
      "metadata": {
        "id": "D4NJN12rfDKs"
      },
      "execution_count": null,
      "outputs": []
    },
    {
      "cell_type": "markdown",
      "source": [
        "16. What are the Advantages of OOP?"
      ],
      "metadata": {
        "id": "IwOMwANRfHHV"
      }
    },
    {
      "cell_type": "markdown",
      "source": [
        " 16. What are the Advantages of OOP?"
      ],
      "metadata": {
        "id": "gZ0rnce9fWGW"
      }
    },
    {
      "cell_type": "markdown",
      "source": [
        "Object-Oriented Programming (OOP) provides a structured and organized way of writing complex code. It mimics real-world entities using objects and improves code reusability, scalability, and maintenance. Below are the key advantages:\n",
        "🔹 1. Modularity\n",
        "OOP allows you to break down complex problems into smaller, manageable parts using classes and objects.\n",
        "\n",
        "Example:\n",
        "A \"School\" software can have different classes like Student, Teacher, Course, etc., each handling its own logic.\n",
        "🔹 2. Reusability\n",
        "Once a class is written, it can be reused in multiple programs or extended via inheritance without rewriting code.\n",
        "🔹 3. Scalability\n",
        "OOP makes it easier to add new features or modify existing ones without affecting other parts of the code.\n",
        "\n",
        "For instance, if you want to add a new class Admin in your system, you can easily extend from a common User class without disturbing the codebase.\n",
        "\n",
        "🔹 4. Maintainability\n",
        "Due to modularity and reusability, the code is easier to understand, debug, and maintain.\n",
        "\n",
        " If a bug is found in one class, it can be fixed independently without affecting others.\n",
        "🔹 5. Data Security via Encapsulation\n",
        "OOP allows you to hide sensitive data using private or protected access modifiers, allowing only controlled access.\n",
        "🔹 6. Real-World Modeling\n",
        "OOP helps represent real-world entities like Car, Person, BankAccount, etc., making it intuitive and close to real-life scenarios.\n",
        "\n",
        "🔹 7. Polymorphism and Flexibility\n",
        "You can use a common interface (method name) for different types of objects. This improves flexibility and reduces code duplication."
      ],
      "metadata": {
        "id": "Gd7MAsQ2fk2i"
      }
    },
    {
      "cell_type": "markdown",
      "source": [
        "\n",
        " 17. What is the Difference Between a Class Variable and an Instance Variable?\n"
      ],
      "metadata": {
        "id": "Cqw0jJ90gQ8k"
      }
    },
    {
      "cell_type": "markdown",
      "source": [
        "Class variables are shared across all instances of a class.\n",
        "Instance variables are unique to each object."
      ],
      "metadata": {
        "id": "CQcyrCRygUnZ"
      }
    },
    {
      "cell_type": "code",
      "source": [
        "🔸 Example:\n",
        "class Demo:\n",
        "    count = 0  # class variable\n",
        "\n",
        "    def __init__(self):\n",
        "        self.name = \"Test\"  # instance variable"
      ],
      "metadata": {
        "id": "V5ioaowPgkXF"
      },
      "execution_count": null,
      "outputs": []
    },
    {
      "cell_type": "markdown",
      "source": [
        " 18. What is Multiple Inheritance in Python?"
      ],
      "metadata": {
        "id": "n4UShkTCgnu8"
      }
    },
    {
      "cell_type": "markdown",
      "source": [
        "Multiple inheritance is a feature in which a class can inherit attributes and methods from more than one parent class. This helps in combining functionalities of multiple classes."
      ],
      "metadata": {
        "id": "bnS5FkqzgrQt"
      }
    },
    {
      "cell_type": "code",
      "source": [
        "🔸 Example:\n",
        "class A:\n",
        "    def method_a(self):\n",
        "        print(\"A\")\n",
        "\n",
        "class B:\n",
        "    def method_b(self):\n",
        "        print(\"B\")\n",
        "\n",
        "class C(A, B):\n",
        "    pass\n",
        "\n",
        "obj = C()\n",
        "obj.method_a()\n",
        "obj.method_b()"
      ],
      "metadata": {
        "id": "odcdVJ-Bgu32"
      },
      "execution_count": null,
      "outputs": []
    },
    {
      "cell_type": "markdown",
      "source": [
        "19. Explain the Purpose of __str__ and __repr__ Methods"
      ],
      "metadata": {
        "id": "32_Yxu9sgyhF"
      }
    },
    {
      "cell_type": "markdown",
      "source": [
        "__str__ is meant to return a user-friendly string representation of the object.\n",
        "__repr__ returns a developer-friendly representation for debugging."
      ],
      "metadata": {
        "id": "LnWT9aU-g6E1"
      }
    },
    {
      "cell_type": "code",
      "source": [
        "🔸 Example:\n",
        "class Book:\n",
        "    def __str__(self):\n",
        "        return \"This is a book\"\n",
        "\n",
        "    def __repr__(self):\n",
        "        return \"Book()\""
      ],
      "metadata": {
        "id": "Byij0Sczg8sh"
      },
      "execution_count": null,
      "outputs": []
    },
    {
      "cell_type": "markdown",
      "source": [
        " 20. What is the Significance of super() Function in Python?"
      ],
      "metadata": {
        "id": "qfu44V9QhB25"
      }
    },
    {
      "cell_type": "markdown",
      "source": [
        "super() is used to call a method from the parent class, especially useful when overriding methods in the child class."
      ],
      "metadata": {
        "id": "IQTPbP9ehDwN"
      }
    },
    {
      "cell_type": "code",
      "source": [
        "🔸 Example:\n",
        "class Parent:\n",
        "    def greet(self):\n",
        "        print(\"Hello from Parent\")\n",
        "\n",
        "class Child(Parent):\n",
        "    def greet(self):\n",
        "        super().greet()\n",
        "        print(\"Hello from Child\")"
      ],
      "metadata": {
        "id": "IWXfuYWdhLoe"
      },
      "execution_count": null,
      "outputs": []
    },
    {
      "cell_type": "markdown",
      "source": [
        "21. What is the Significance of the __del__ Method in Python?"
      ],
      "metadata": {
        "id": "GIwhHN-6hO-4"
      }
    },
    {
      "cell_type": "markdown",
      "source": [
        "__del__() is called when an object is about to be destroyed. It is used for cleanup activities, such as closing files or releasing resources."
      ],
      "metadata": {
        "id": "zd46S-ishS4d"
      }
    },
    {
      "cell_type": "code",
      "source": [
        "🔸 Example:\n",
        "class Sample:\n",
        "    def __del__(self):\n",
        "        print(\"Object deleted\")"
      ],
      "metadata": {
        "id": "8IHRFiuMhYc5"
      },
      "execution_count": null,
      "outputs": []
    },
    {
      "cell_type": "markdown",
      "source": [
        " 22. Difference Between @staticmethod and @classmethod in Python"
      ],
      "metadata": {
        "id": "QkY28YYvhcDd"
      }
    },
    {
      "cell_type": "markdown",
      "source": [
        "In Python, @staticmethod and @classmethod are decorators used to define special types of methods within a class. Both are different from regular instance methods, but they serve different purposes.\n",
        "\n",
        "| Feature                   | `@staticmethod`                                | `@classmethod`                              |\n",
        "| ------------------------- | ---------------------------------------------- | ------------------------------------------- |\n",
        "| Access to `self` or `cls` | Does **not** take `self` or `cls` as parameter | Takes `cls` as the first parameter          |\n",
        "| Access to instance        | Cannot access instance variables or methods    | Cannot access instance but can access class |\n",
        "| Access to class           | Cannot access class variables                  | Can access and modify class variables       |\n",
        "| Use case                  | Utility methods, helper functions              | Factory methods, alternative constructors   |\n",
        "| Called using              | ClassName or instance                          | ClassName or instance                       |\n",
        "Use @staticmethod when the method is independent of both class and instance.\n",
        "\n",
        "Use @classmethod when the method needs access to class-level information or acts as a factory for creating instances."
      ],
      "metadata": {
        "id": "3kcvtZk3hyXE"
      }
    },
    {
      "cell_type": "markdown",
      "source": [
        "23. How Does Polymorphism Work in Python with Inheritance?"
      ],
      "metadata": {
        "id": "3q3Mria7iQYr"
      }
    },
    {
      "cell_type": "markdown",
      "source": [
        "Polymorphism allows child classes to define their own version of a method from the parent class, and these are dynamically resolved at runtime."
      ],
      "metadata": {
        "id": "CJAgO4AtiT-F"
      }
    },
    {
      "cell_type": "code",
      "source": [
        "# Example:\n",
        "class Animal:\n",
        "    def speak(self):\n",
        "        print(\"Animal\")\n",
        "\n",
        "class Dog(Animal):\n",
        "    def speak(self):\n",
        "        print(\"Dog\")\n",
        "\n",
        "def make_sound(animal):\n",
        "    animal.speak()\n",
        "\n",
        "make_sound(Dog())"
      ],
      "metadata": {
        "id": "H2YygFJHiWvp"
      },
      "execution_count": null,
      "outputs": []
    },
    {
      "cell_type": "markdown",
      "source": [
        "24. What is Method Chaining in Python OOP?"
      ],
      "metadata": {
        "id": "xNwmvHUkiarO"
      }
    },
    {
      "cell_type": "markdown",
      "source": [
        "Method chaining allows multiple methods to be called in a single line by returning self at the end of each method."
      ],
      "metadata": {
        "id": "FA6cjpKxiguZ"
      }
    },
    {
      "cell_type": "code",
      "source": [
        "# Example:\n",
        "class Person:\n",
        "    def set_name(self, name):\n",
        "        self.name = name\n",
        "        return self\n",
        "\n",
        "    def greet(self):\n",
        "        print(f\"Hi, I'm {self.name}\")\n",
        "        return self\n",
        "\n",
        "Person().set_name(\"Ravi\").greet()"
      ],
      "metadata": {
        "id": "LU0i3RvYimph"
      },
      "execution_count": null,
      "outputs": []
    },
    {
      "cell_type": "markdown",
      "source": [
        "25. What is the Purpose of the __call__ Method in Python?"
      ],
      "metadata": {
        "id": "rmyubdfDiqTl"
      }
    },
    {
      "cell_type": "markdown",
      "source": [
        "The __call__ method allows an instance of a class to be called as if it were a function. This can be used for callable objects or function wrappers."
      ],
      "metadata": {
        "id": "c9nSXMPlitQE"
      }
    },
    {
      "cell_type": "code",
      "source": [
        " #Example:\n",
        "class Adder:\n",
        "    def __call__(self, a, b):\n",
        "        return a + b\n",
        "\n",
        "add = Adder()\n",
        "print(add(3, 4))  # Output: 7"
      ],
      "metadata": {
        "id": "VfS-NGXeivvp"
      },
      "execution_count": null,
      "outputs": []
    },
    {
      "cell_type": "markdown",
      "source": [
        "**Practical Questions Answer**"
      ],
      "metadata": {
        "id": "BUhXwYuAj_16"
      }
    },
    {
      "cell_type": "markdown",
      "source": [
        "\n",
        "1. Parent and Child Class with Method Overriding"
      ],
      "metadata": {
        "id": "EvzvU4EtkfSr"
      }
    },
    {
      "cell_type": "code",
      "source": [
        "class Animal:\n",
        "    def speak(self):\n",
        "        print(\"Animal speaks in a generic way.\")\n",
        "\n",
        "class Dog(Animal):\n",
        "    def speak(self):\n",
        "        print(\"Bark!\")\n"
      ],
      "metadata": {
        "id": "zEnZoh4xk3nP"
      },
      "execution_count": null,
      "outputs": []
    },
    {
      "cell_type": "markdown",
      "source": [
        "2. Abstract Class Shape with Area Method"
      ],
      "metadata": {
        "id": "v-fa4U8qk_zy"
      }
    },
    {
      "cell_type": "code",
      "source": [
        "from abc import ABC, abstractmethod\n",
        "\n",
        "class Shape(ABC):\n",
        "    @abstractmethod\n",
        "    def area(self):\n",
        "        pass\n",
        "\n",
        "class Circle(Shape):\n",
        "    def __init__(self, radius):\n",
        "        self.radius = radius\n",
        "\n",
        "    def area(self):\n",
        "        return 3.14 * self.radius * self.radius\n",
        "\n",
        "class Rectangle(Shape):\n",
        "    def __init__(self, width, height):\n",
        "        self.width = width\n",
        "        self.height = height\n",
        "\n",
        "    def area(self):\n",
        "        return self.width * self.height\n"
      ],
      "metadata": {
        "id": "S4bbYUVJlDhw"
      },
      "execution_count": null,
      "outputs": []
    },
    {
      "cell_type": "markdown",
      "source": [
        "3. Multi-level Inheritance"
      ],
      "metadata": {
        "id": "6NjGWE5VlF97"
      }
    },
    {
      "cell_type": "code",
      "source": [
        "class Vehicle:\n",
        "    def __init__(self, type):\n",
        "        self.type = type\n",
        "\n",
        "class Car(Vehicle):\n",
        "    def __init__(self, type, brand):\n",
        "        super().__init__(type)\n",
        "        self.brand = brand\n",
        "\n",
        "class ElectricCar(Car):\n",
        "    def __init__(self, type, brand, battery):\n",
        "        super().__init__(type, brand)\n",
        "        self.battery = battery\n"
      ],
      "metadata": {
        "id": "_gmBkODMlJvU"
      },
      "execution_count": null,
      "outputs": []
    },
    {
      "cell_type": "markdown",
      "source": [
        "4. Polymorphism with Overridden Methods"
      ],
      "metadata": {
        "id": "6XCwN2SNlL95"
      }
    },
    {
      "cell_type": "code",
      "source": [
        "class Bird:\n",
        "    def fly(self):\n",
        "        print(\"Bird is flying\")\n",
        "\n",
        "class Sparrow(Bird):\n",
        "    def fly(self):\n",
        "        print(\"Sparrow flies high\")\n",
        "\n",
        "class Penguin(Bird):\n",
        "    def fly(self):\n",
        "        print(\"Penguin cannot fly\")\n"
      ],
      "metadata": {
        "id": "BEgNe-t9lO3o"
      },
      "execution_count": null,
      "outputs": []
    },
    {
      "cell_type": "markdown",
      "source": [
        "5. Encapsulation with Private Attributes"
      ],
      "metadata": {
        "id": "Atozu_R4lQ3I"
      }
    },
    {
      "cell_type": "code",
      "source": [
        "class BankAccount:\n",
        "    def __init__(self, balance=0):\n",
        "        self.__balance = balance\n",
        "\n",
        "    def deposit(self, amount):\n",
        "        self.__balance += amount\n",
        "\n",
        "    def withdraw(self, amount):\n",
        "        if amount <= self.__balance:\n",
        "            self.__balance -= amount\n",
        "        else:\n",
        "            print(\"Insufficient balance\")\n",
        "\n",
        "    def get_balance(self):\n",
        "        return self.__balance\n"
      ],
      "metadata": {
        "id": "zOD6xoIklTKE"
      },
      "execution_count": null,
      "outputs": []
    },
    {
      "cell_type": "markdown",
      "source": [
        "6. Runtime Polymorphism"
      ],
      "metadata": {
        "id": "Xn1Lwzcgl5hv"
      }
    },
    {
      "cell_type": "code",
      "source": [
        "class Instrument:\n",
        "    def play(self):\n",
        "        print(\"Playing an instrument\")\n",
        "\n",
        "class Guitar(Instrument):\n",
        "    def play(self):\n",
        "        print(\"Strumming the guitar\")\n",
        "\n",
        "class Piano(Instrument):\n",
        "    def play(self):\n",
        "        print(\"Playing the piano\")\n"
      ],
      "metadata": {
        "id": "haza_SBwl6rj"
      },
      "execution_count": null,
      "outputs": []
    },
    {
      "cell_type": "markdown",
      "source": [
        "7. Class Method and Static Method"
      ],
      "metadata": {
        "id": "EWDtLVgtl8kv"
      }
    },
    {
      "cell_type": "code",
      "source": [
        "class MathOperations:\n",
        "    @classmethod\n",
        "    def add_numbers(cls, a, b):\n",
        "        return a + b\n",
        "\n",
        "    @staticmethod\n",
        "    def subtract_numbers(a, b):\n",
        "        return a - b\n"
      ],
      "metadata": {
        "id": "6v5m-oPpl_BV"
      },
      "execution_count": null,
      "outputs": []
    },
    {
      "cell_type": "markdown",
      "source": [
        "8. Counting Total Number of Persons"
      ],
      "metadata": {
        "id": "NM060AYsmBER"
      }
    },
    {
      "cell_type": "code",
      "source": [
        "class Person:\n",
        "    count = 0\n",
        "\n",
        "    def __init__(self, name):\n",
        "        self.name = name\n",
        "        Person.count += 1\n",
        "\n",
        "    @classmethod\n",
        "    def total_persons(cls):\n",
        "        return cls.count\n"
      ],
      "metadata": {
        "id": "exWRGXnCmHxn"
      },
      "execution_count": null,
      "outputs": []
    },
    {
      "cell_type": "markdown",
      "source": [
        "9. Fraction Class with __str__() Method"
      ],
      "metadata": {
        "id": "t28qvjSOmLmH"
      }
    },
    {
      "cell_type": "code",
      "source": [
        "class Fraction:\n",
        "    def __init__(self, numerator, denominator):\n",
        "        self.numerator = numerator\n",
        "        self.denominator = denominator\n",
        "\n",
        "    def __str__(self):\n",
        "        return f\"{self.numerator}/{self.denominator}\"\n"
      ],
      "metadata": {
        "id": "kkAzqI-MmMnj"
      },
      "execution_count": null,
      "outputs": []
    },
    {
      "cell_type": "markdown",
      "source": [
        "10. Operator Overloading for Vector Addition"
      ],
      "metadata": {
        "id": "xoJB-osZmOjx"
      }
    },
    {
      "cell_type": "code",
      "source": [
        "class Vector:\n",
        "    def __init__(self, x, y):\n",
        "        self.x = x\n",
        "        self.y = y\n",
        "\n",
        "    def __add__(self, other):\n",
        "        return Vector(self.x + other.x, self.y + other.y)\n",
        "\n",
        "    def __str__(self):\n",
        "        return f\"({self.x}, {self.y})\"\n"
      ],
      "metadata": {
        "id": "8VrOCNskmQaH"
      },
      "execution_count": null,
      "outputs": []
    },
    {
      "cell_type": "markdown",
      "source": [
        "11. Person Class with Greet Method"
      ],
      "metadata": {
        "id": "RsZjP8h7mSjx"
      }
    },
    {
      "cell_type": "code",
      "source": [
        "class Person:\n",
        "    def __init__(self, name, age):\n",
        "        self.name = name\n",
        "        self.age = age\n",
        "\n",
        "    def greet(self):\n",
        "        print(f\"Hello, my name is {self.name} and I am {self.age} years old.\")\n"
      ],
      "metadata": {
        "id": "V3wnyq6cmZ8y"
      },
      "execution_count": null,
      "outputs": []
    },
    {
      "cell_type": "markdown",
      "source": [
        "12. Student Class with Average Grade"
      ],
      "metadata": {
        "id": "mJVa-1JCmd8h"
      }
    },
    {
      "cell_type": "code",
      "source": [
        "class Student:\n",
        "    def __init__(self, name, grades):\n",
        "        self.name = name\n",
        "        self.grades = grades\n",
        "\n",
        "    def average_grade(self):\n",
        "        return sum(self.grades) / len(self.grades)\n"
      ],
      "metadata": {
        "id": "YFlkg2rXme7j"
      },
      "execution_count": null,
      "outputs": []
    },
    {
      "cell_type": "markdown",
      "source": [
        "13. Rectangle Class with Area Calculation"
      ],
      "metadata": {
        "id": "eD5DjBGMmizs"
      }
    },
    {
      "cell_type": "code",
      "source": [
        "class Rectangle:\n",
        "    def set_dimensions(self, width, height):\n",
        "        self.width = width\n",
        "        self.height = height\n",
        "\n",
        "    def area(self):\n",
        "        return self.width * self.height\n"
      ],
      "metadata": {
        "id": "wEadLMZtmj3z"
      },
      "execution_count": null,
      "outputs": []
    },
    {
      "cell_type": "markdown",
      "source": [
        "14. Employee and Manager Salary Calculation"
      ],
      "metadata": {
        "id": "3xxzjz3Wmndq"
      }
    },
    {
      "cell_type": "code",
      "source": [
        "class Employee:\n",
        "    def calculate_salary(self, hours, rate):\n",
        "        return hours * rate\n",
        "\n",
        "class Manager(Employee):\n",
        "    def calculate_salary(self, hours, rate, bonus):\n",
        "        return super().calculate_salary(hours, rate) + bonus\n"
      ],
      "metadata": {
        "id": "s3eM0g0Ampkt"
      },
      "execution_count": null,
      "outputs": []
    },
    {
      "cell_type": "markdown",
      "source": [
        "15. Product Total Price"
      ],
      "metadata": {
        "id": "vQjrg6gsmsm2"
      }
    },
    {
      "cell_type": "code",
      "source": [
        "class Product:\n",
        "    def __init__(self, name, price, quantity):\n",
        "        self.name = name\n",
        "        self.price = price\n",
        "        self.quantity = quantity\n",
        "\n",
        "    def total_price(self):\n",
        "        return self.price * self.quantity\n"
      ],
      "metadata": {
        "id": "Pzl1__5Hm1oY"
      },
      "execution_count": null,
      "outputs": []
    },
    {
      "cell_type": "markdown",
      "source": [
        "16. Abstract Animal with Sound Method"
      ],
      "metadata": {
        "id": "hPRXFPDmm70I"
      }
    },
    {
      "cell_type": "code",
      "source": [
        "from abc import ABC, abstractmethod\n",
        "\n",
        "class Animal(ABC):\n",
        "    @abstractmethod\n",
        "    def sound(self):\n",
        "        pass\n",
        "\n",
        "class Cow(Animal):\n",
        "    def sound(self):\n",
        "        print(\"Moo\")\n",
        "\n",
        "class Sheep(Animal):\n",
        "    def sound(self):\n",
        "        print(\"Baa\")\n"
      ],
      "metadata": {
        "id": "GNHufPZ0m-nR"
      },
      "execution_count": null,
      "outputs": []
    },
    {
      "cell_type": "markdown",
      "source": [
        "17. Book Class with Formatted Info"
      ],
      "metadata": {
        "id": "ynC8HIfVnECG"
      }
    },
    {
      "cell_type": "code",
      "source": [
        "class Book:\n",
        "    def __init__(self, title, author, year_published):\n",
        "        self.title = title\n",
        "        self.author = author\n",
        "        self.year_published = year_published\n",
        "\n",
        "    def get_book_info(self):\n",
        "        return f\"'{self.title}' by {self.author} ({self.year_published})\"\n"
      ],
      "metadata": {
        "id": "QNRUYDO1nG3d"
      },
      "execution_count": null,
      "outputs": []
    },
    {
      "cell_type": "markdown",
      "source": [
        "18. House and Mansion Class"
      ],
      "metadata": {
        "id": "JEV0EDSZnepx"
      }
    },
    {
      "cell_type": "code",
      "source": [
        "class House:\n",
        "    def __init__(self, address, price):\n",
        "        self.address = address\n",
        "        self.price = price\n",
        "\n",
        "class Mansion(House):\n",
        "    def __init__(self, address, price, number_of_rooms):\n",
        "        super().__init__(address, price)\n",
        "        self.number_of_rooms = number_of_rooms\n"
      ],
      "metadata": {
        "id": "6cmF8MbcnkWo"
      },
      "execution_count": null,
      "outputs": []
    }
  ]
}